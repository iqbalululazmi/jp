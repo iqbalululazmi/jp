{
 "metadata": {
  "language_info": {
   "codemirror_mode": {
    "name": "ipython",
    "version": 3
   },
   "file_extension": ".py",
   "mimetype": "text/x-python",
   "name": "python",
   "nbconvert_exporter": "python",
   "pygments_lexer": "ipython3",
   "version": 3
  },
  "orig_nbformat": 2,
  "kernelspec": {
   "name": "python_defaultSpec_1595396042873",
   "display_name": "Python 3.8.2 32-bit ('jpenv': venv)"
  }
 },
 "nbformat": 4,
 "nbformat_minor": 2,
 "cells": [
  {
   "cell_type": "code",
   "execution_count": 7,
   "metadata": {},
   "outputs": [],
   "source": [
    "import numpy as np\n",
    "\n",
    "n = 200\n",
    "fibonacci = np.zeros((n))\n",
    "fibonacci[0] = 0\n",
    "fibonacci[1] = 1\n",
    "index = 2\n",
    "for index in range(2, n):\n",
    "    fibonacci[index] = fibonacci[index - 1] + fibonacci[index-2]"
   ]
  },
  {
   "cell_type": "code",
   "execution_count": null,
   "metadata": {},
   "outputs": [],
   "source": []
  }
 ]
}